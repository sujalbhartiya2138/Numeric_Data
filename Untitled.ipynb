{
 "cells": [
  {
   "cell_type": "code",
   "execution_count": 1,
   "id": "54c3a497-cc36-43ae-882a-bc60925ca76e",
   "metadata": {},
   "outputs": [
    {
     "name": "stdout",
     "output_type": "stream",
     "text": [
      "0    P\n",
      "1    a\n",
      "2    n\n",
      "3    d\n",
      "4    a\n",
      "5    s\n",
      "dtype: object\n"
     ]
    }
   ],
   "source": [
    "import pandas as pd  \n",
    "import numpy as np  \n",
    "info = np.array(['P','a','n','d','a','s'])  \n",
    "a = pd.Series(info)  \n",
    "print(a)  "
   ]
  },
  {
   "cell_type": "code",
   "execution_count": 2,
   "id": "da6fa1b3-8c82-4f06-a925-f295b04fa6d4",
   "metadata": {},
   "outputs": [
    {
     "name": "stdout",
     "output_type": "stream",
     "text": [
      "          0\n",
      "0    Python\n",
      "1    Pandas\n",
      "2  Power bi\n",
      "3     numpy\n",
      "4   tableau\n"
     ]
    }
   ],
   "source": [
    "import pandas as pd\n",
    "x = ['Python', 'Pandas','Power bi','numpy','tableau']    \n",
    "df = pd.DataFrame(x)  \n",
    "print(df)  "
   ]
  },
  {
   "cell_type": "code",
   "execution_count": 3,
   "id": "0600cdea-4223-4598-b6d6-92965083e4b0",
   "metadata": {},
   "outputs": [
    {
     "name": "stdout",
     "output_type": "stream",
     "text": [
      "Series([], dtype: object)\n"
     ]
    }
   ],
   "source": [
    "import pandas as pd\n",
    "x=pd.Series()\n",
    "print(x)"
   ]
  },
  {
   "cell_type": "code",
   "execution_count": 4,
   "id": "dc0f7589-1050-452d-95a4-e7747a6fefc7",
   "metadata": {
    "scrolled": true
   },
   "outputs": [
    {
     "name": "stdout",
     "output_type": "stream",
     "text": [
      "x    0.0\n",
      "y    1.0\n",
      "z    2.0\n",
      "T    3.0\n",
      "dtype: float64\n"
     ]
    }
   ],
   "source": [
    "import pandas as pd  \n",
    "import numpy as np  \n",
    "info = {'x' : 0., 'y' : 1., 'z' : 2., 'T' : 3.}  \n",
    "a = pd.Series(info)  \n",
    "print (a)  "
   ]
  },
  {
   "cell_type": "code",
   "execution_count": 9,
   "id": "2ca27774-cf82-4275-9ee4-8efe7dec96b0",
   "metadata": {},
   "outputs": [
    {
     "name": "stdout",
     "output_type": "stream",
     "text": [
      "0    5\n",
      "1    5\n",
      "2    5\n",
      "3    5\n",
      "dtype: int64\n"
     ]
    }
   ],
   "source": [
    "import pandas as pd  \n",
    "import numpy as np  \n",
    "x = pd.Series(5, index=[0, 1, 2, 3])  \n",
    "print (x)  "
   ]
  },
  {
   "cell_type": "code",
   "execution_count": 10,
   "id": "c3744094-5747-40b5-941e-fe598aac83a2",
   "metadata": {},
   "outputs": [
    {
     "name": "stdout",
     "output_type": "stream",
     "text": [
      "1\n"
     ]
    },
    {
     "name": "stderr",
     "output_type": "stream",
     "text": [
      "C:\\Users\\Sujal\\AppData\\Local\\Temp\\ipykernel_5224\\4002169152.py:3: FutureWarning: Series.__getitem__ treating keys as positions is deprecated. In a future version, integer keys will always be treated as labels (consistent with DataFrame behavior). To access a value by position, use `ser.iloc[pos]`\n",
      "  print (x[0])\n"
     ]
    }
   ],
   "source": [
    "import pandas as pd  \n",
    "x = pd.Series([1,2,3],index = ['a','b','c'])    \n",
    "print (x[0]) "
   ]
  },
  {
   "cell_type": "code",
   "execution_count": 12,
   "id": "c6c27f94-d10c-42c3-8bd5-2ebd0eb9fead",
   "metadata": {},
   "outputs": [
    {
     "name": "stdout",
     "output_type": "stream",
     "text": [
      "2\n"
     ]
    },
    {
     "name": "stderr",
     "output_type": "stream",
     "text": [
      "C:\\Users\\Sujal\\AppData\\Local\\Temp\\ipykernel_5224\\97894667.py:3: FutureWarning: Series.__getitem__ treating keys as positions is deprecated. In a future version, integer keys will always be treated as labels (consistent with DataFrame behavior). To access a value by position, use `ser.iloc[pos]`\n",
      "  print (x[1])\n"
     ]
    }
   ],
   "source": [
    "import pandas as pd  \n",
    "x = pd.Series([1,2,3],index = ['a','b','c'])    \n",
    "print (x[1]) "
   ]
  },
  {
   "cell_type": "code",
   "execution_count": null,
   "id": "2dc635ec-0031-4b6d-b7ab-eec2f529fef0",
   "metadata": {},
   "outputs": [],
   "source": []
  }
 ],
 "metadata": {
  "kernelspec": {
   "display_name": "Python 3 (ipykernel)",
   "language": "python",
   "name": "python3"
  },
  "language_info": {
   "codemirror_mode": {
    "name": "ipython",
    "version": 3
   },
   "file_extension": ".py",
   "mimetype": "text/x-python",
   "name": "python",
   "nbconvert_exporter": "python",
   "pygments_lexer": "ipython3",
   "version": "3.11.3"
  }
 },
 "nbformat": 4,
 "nbformat_minor": 5
}
